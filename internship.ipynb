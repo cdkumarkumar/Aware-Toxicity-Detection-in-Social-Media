{
  "nbformat": 4,
  "nbformat_minor": 0,
  "metadata": {
    "colab": {
      "provenance": [],
      "authorship_tag": "ABX9TyPH+N2cNNclTWE9gxAN5IBy",
      "include_colab_link": true
    },
    "kernelspec": {
      "name": "python3",
      "display_name": "Python 3"
    },
    "language_info": {
      "name": "python"
    }
  },
  "cells": [
    {
      "cell_type": "markdown",
      "metadata": {
        "id": "view-in-github",
        "colab_type": "text"
      },
      "source": [
        "<a href=\"https://colab.research.google.com/github/cdkumarkumar/Aware-Toxicity-Detection-in-Social-Media/blob/main/internship.ipynb\" target=\"_parent\"><img src=\"https://colab.research.google.com/assets/colab-badge.svg\" alt=\"Open In Colab\"/></a>"
      ]
    },
    {
      "cell_type": "code",
      "execution_count": null,
      "metadata": {
        "id": "Pu-uBub8nfSF"
      },
      "outputs": [],
      "source": []
    },
    {
      "cell_type": "code",
      "source": [
        "import pandas as pd\n",
        "import matplotlib.pyplot as plt\n",
        "\n",
        "# Dataset as dictionary\n",
        "production_data = {\n",
        "    \"Date\": [\"2025-09-28\", \"2025-09-28\", \"2025-09-29\", \"2025-09-29\", \"2025-09-30\", \"2025-09-30\"],\n",
        "    \"Machine_ID\": [\"M1\", \"M2\", \"M1\", \"M2\", \"M1\", \"M2\"],\n",
        "    \"Operator\": [\"Ravi\", \"Meena\", \"Ravi\", \"Meena\", \"Kumar\", \"Meena\"],\n",
        "    \"Product\": [\"WidgetA\", \"WidgetB\", \"WidgetA\", \"WidgetB\", \"WidgetA\", \"WidgetB\"],\n",
        "    \"Units_Produced\": [120, 150, 130, 140, 125, 155],\n",
        "    \"Defects\": [4, 2, 3, 5, 1, 4]\n",
        "}\n",
        "\n",
        "# Convert to DataFrame\n",
        "df = pd.DataFrame(production_data)\n",
        "\n",
        "# Summary\n",
        "print(\"=== Production Summary ===\")\n",
        "print(df.describe())\n",
        "\n",
        "# Recurring defects by product\n",
        "defect_summary = df.groupby(\"Product\")[\"Defects\"].sum().reset_index()\n",
        "print(\"\\n=== Total Defects by Product ===\\n\", defect_summary)\n",
        "\n",
        "# Efficiency ratio (Units / (Defects+1))\n",
        "df[\"Efficiency_Ratio\"] = df[\"Units_Produced\"] / (df[\"Defects\"] + 1)\n",
        "\n",
        "# Machine-wise weekly summary\n",
        "weekly_summary = df.groupby(\"Machine_ID\")[[\"Units_Produced\", \"Defects\"]].sum()\n",
        "print(\"\\n=== Weekly Machine Summary ===\\n\", weekly_summary)\n",
        "\n",
        "# Chart: Production vs Defects\n",
        "plt.figure(figsize=(8, 5))\n",
        "plt.bar(df[\"Product\"], df[\"Defects\"], color=\"red\", alpha=0.6, label=\"Defects\")\n",
        "plt.bar(df[\"Product\"], df[\"Units_Produced\"]/10, color=\"green\", alpha=0.6, label=\"Units/10\")\n",
        "plt.title(\"Production vs Defects by Product\")\n",
        "plt.xlabel(\"Product\")\n",
        "plt.ylabel(\"Count\")\n",
        "plt.legend()\n",
        "plt.tight_layout()\n",
        "plt.show()\n",
        "\n",
        "# Export to Excel\n",
        "df.to_excel(\"Production_Report.xlsx\", index=False)\n"
      ],
      "metadata": {
        "colab": {
          "base_uri": "https://localhost:8080/",
          "height": 892
        },
        "id": "OtLd_01cniYI",
        "outputId": "f6b05c0d-5484-43d6-bfb5-00f5efea4a02"
      },
      "execution_count": 1,
      "outputs": [
        {
          "output_type": "stream",
          "name": "stdout",
          "text": [
            "=== Production Summary ===\n",
            "       Units_Produced   Defects\n",
            "count        6.000000  6.000000\n",
            "mean       136.666667  3.166667\n",
            "std         14.023789  1.471960\n",
            "min        120.000000  1.000000\n",
            "25%        126.250000  2.250000\n",
            "50%        135.000000  3.500000\n",
            "75%        147.500000  4.000000\n",
            "max        155.000000  5.000000\n",
            "\n",
            "=== Total Defects by Product ===\n",
            "    Product  Defects\n",
            "0  WidgetA        8\n",
            "1  WidgetB       11\n",
            "\n",
            "=== Weekly Machine Summary ===\n",
            "             Units_Produced  Defects\n",
            "Machine_ID                         \n",
            "M1                     375        8\n",
            "M2                     445       11\n"
          ]
        },
        {
          "output_type": "display_data",
          "data": {
            "text/plain": [
              "<Figure size 800x500 with 1 Axes>"
            ],
            "image/png": "[encoded data removed]"
          },
          "metadata": {}
        }
      ]
    },
    {
      "cell_type": "code",
      "source": [
        "import pandas as pd\n",
        "\n",
        "# Dataset as dictionary\n",
        "order_data = {\n",
        "    \"Order_ID\": [1001, 1002, 1003, 1004, 1005, 1006, 1007],\n",
        "    \"Customer\": [\"Alpha Corp\", \"Beta Ltd\", \"Gamma Inc\", \"Alpha Corp\", \"Beta Ltd\", \"Delta Co\", \"Alpha Corp\"],\n",
        "    \"Status\": [\"Pending\", \"In-Production\", \"Dispatched\", \"Pending\", \"Dispatched\", \"In-Production\", \"Pending\"],\n",
        "    \"Quantity\": [50, 70, 60, 40, 70, 90, 50],\n",
        "    \"Order_Date\": [\"2025-09-20\", \"2025-09-21\", \"2025-09-22\", \"2025-09-22\", \"2025-09-23\", \"2025-09-24\", \"2025-09-25\"]\n",
        "}\n",
        "\n",
        "# Convert to DataFrame\n",
        "orders = pd.DataFrame(order_data)\n",
        "\n",
        "# Clean and standardize\n",
        "orders[\"Status\"] = orders[\"Status\"].str.strip().str.title()\n",
        "orders.drop_duplicates(inplace=True)\n",
        "\n",
        "# Segregate by order status\n",
        "pending = orders[orders[\"Status\"] == \"Pending\"]\n",
        "in_prod = orders[orders[\"Status\"] == \"In-Production\"]\n",
        "dispatched = orders[orders[\"Status\"] == \"Dispatched\"]\n",
        "\n",
        "# Summary counts\n",
        "status_summary = orders[\"Status\"].value_counts()\n",
        "print(\"=== Order Status Summary ===\\n\", status_summary)\n",
        "\n",
        "# Dashboard-style pivot table\n",
        "dashboard = orders.pivot_table(index=\"Customer\", columns=\"Status\", values=\"Quantity\", aggfunc=\"sum\", fill_value=0)\n",
        "print(\"\\n=== Dashboard (Customer vs Status) ===\\n\", dashboard)\n",
        "\n",
        "# Export to Excel\n",
        "with pd.ExcelWriter(\"Order_Status_Dashboard.xlsx\") as writer:\n",
        "    orders.to_excel(writer, sheet_name=\"All Orders\", index=False)\n",
        "    dashboard.to_excel(writer, sheet_name=\"Dashboard\")\n",
        "\n",
        "print(\"\\nExcel dashboard created successfully!\")\n"
      ],
      "metadata": {
        "colab": {
          "base_uri": "https://localhost:8080/"
        },
        "id": "P-IXlH_UnqHV",
        "outputId": "2f381c89-012d-440b-af03-3032b0420b1a"
      },
      "execution_count": 3,
      "outputs": [
        {
          "output_type": "stream",
          "name": "stdout",
          "text": [
            "=== Order Status Summary ===\n",
            " Status\n",
            "Pending          3\n",
            "In-Production    2\n",
            "Dispatched       2\n",
            "Name: count, dtype: int64\n",
            "\n",
            "=== Dashboard (Customer vs Status) ===\n",
            " Status      Dispatched  In-Production  Pending\n",
            "Customer                                      \n",
            "Alpha Corp           0              0      140\n",
            "Beta Ltd            70             70        0\n",
            "Delta Co             0             90        0\n",
            "Gamma Inc           60              0        0\n",
            "\n",
            "Excel dashboard created successfully!\n"
          ]
        }
      ]
    }
  ]
}